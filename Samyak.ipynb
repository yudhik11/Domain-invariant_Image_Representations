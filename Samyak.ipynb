{
 "cells": [
  {
   "cell_type": "code",
   "execution_count": 32,
   "metadata": {},
   "outputs": [],
   "source": [
    "from __future__ import print_function\n",
    "import numpy as np\n",
    "import numpy.matlib\n",
    "import scipy.io\n",
    "import scipy.stats"
   ]
  },
  {
   "cell_type": "code",
   "execution_count": 5,
   "metadata": {},
   "outputs": [],
   "source": [
    "def Config(source=None, target=None):\n",
    "    amazon = 0\n",
    "    webcam = 1\n",
    "    dslr = 2\n",
    "    caltech = 3\n",
    "    \n",
    "    param = {}\n",
    "    param['domains'] = [amazon, webcam, dslr, caltech]\n",
    "    param['domain_names'] = ['amazon', 'webcam', 'dslr', 'caltech']\n",
    "    param['use_Gaussian_kernel'] = False\n",
    "    \n",
    "    param['categories'] = ['back_pack', 'bike', 'calculator',\n",
    "                           'headphones', 'keyboard', 'laptop_computer', 'monitor', 'mouse',\n",
    "                           'mug', 'projector']\n",
    "    \n",
    "    param['DATA_DIR'] = './ToRelease_GFK/data/'\n",
    "    param['held_out_categories'] = False\n",
    "    \n",
    "    if source is None:\n",
    "        param['source'] = webcam\n",
    "    else:\n",
    "        param['source'] = source\n",
    "    \n",
    "    if target is None:\n",
    "        param['target'] = dslr\n",
    "    else:\n",
    "        param['target'] = target\n",
    "    \n",
    "    param['num_trials'] = 20\n",
    "    param['dim'] = 20\n",
    "    param['norm_type'] = 'l2_zscore'\n",
    "    param['C_s'] = 0.05\n",
    "    param['C_t'] = 1\n",
    "    param['mmdt_iter'] = 2\n",
    "    \n",
    "    if param['source'] == amazon:\n",
    "        param['num_train_source'] = 20\n",
    "    else:\n",
    "        param['num_train_source'] = 8\n",
    "    \n",
    "    param['num_train_target'] = 3\n",
    "    \n",
    "    param['result_filename'] = 'DataSplitsOfficeCaltech/SameCategory_{0}-{1}_{2}RandomTrials_10Categories.mat'.format(param['domain_names'][param['source']],\n",
    "                                                                     param['domain_names'][param['target']],\n",
    "                                                                     param['num_trials'])\n",
    "    \n",
    "    return param"
   ]
  },
  {
   "cell_type": "code",
   "execution_count": 6,
   "metadata": {},
   "outputs": [],
   "source": [
    "param = Config()"
   ]
  },
  {
   "cell_type": "code",
   "execution_count": 7,
   "metadata": {},
   "outputs": [
    {
     "data": {
      "text/plain": [
       "{'C_s': 0.05,\n",
       " 'C_t': 1,\n",
       " 'DATA_DIR': './ToRelease_GFK/data/',\n",
       " 'categories': ['back_pack',\n",
       "  'bike',\n",
       "  'calculator',\n",
       "  'headphones',\n",
       "  'keyboard',\n",
       "  'laptop_computer',\n",
       "  'monitor',\n",
       "  'mouse',\n",
       "  'mug',\n",
       "  'projector'],\n",
       " 'dim': 20,\n",
       " 'domain_names': ['amazon', 'webcam', 'dslr', 'caltech'],\n",
       " 'domains': [0, 1, 2, 3],\n",
       " 'held_out_categories': False,\n",
       " 'mmdt_iter': 2,\n",
       " 'norm_type': 'l2_zscore',\n",
       " 'num_train_source': 8,\n",
       " 'num_train_target': 3,\n",
       " 'num_trials': 20,\n",
       " 'result_filename': 'DataSplitsOfficeCaltech/SameCategory_webcam-dslr_20RandomTrials_10Categories.mat',\n",
       " 'source': 1,\n",
       " 'target': 2,\n",
       " 'use_Gaussian_kernel': False}"
      ]
     },
     "execution_count": 7,
     "metadata": {},
     "output_type": "execute_result"
    }
   ],
   "source": [
    "param"
   ]
  },
  {
   "cell_type": "code",
   "execution_count": 50,
   "metadata": {},
   "outputs": [],
   "source": [
    "def LoadOfficePlusCaltechData(foldername, norm_type):\n",
    "    domain_names = ['amazon_SURF_L10.mat', 'webcam_SURF_L10.mat', 'dslr_SURF_L10.mat', 'Caltech10_SURF_L10.mat']\n",
    "#     Data = np.zeros((len(domain_names),len(domain_names)))\n",
    "#     Labels = np.zeros((len(domain_names),len(domain_names)))\n",
    "    Data = []\n",
    "    Labels = []\n",
    "    for idx, name in enumerate(domain_names):\n",
    "        fullfilename = foldername + name\n",
    "        obj = scipy.io.loadmat(fullfilename)\n",
    "        \n",
    "        fts = obj['fts']\n",
    "        labels = obj['labels']\n",
    "        fts = NormData(fts, norm_type)\n",
    "        Data.append(fts)\n",
    "        Labels.append(labels.T)\n",
    "        \n",
    "    return Data, Labels"
   ]
  },
  {
   "cell_type": "code",
   "execution_count": 51,
   "metadata": {},
   "outputs": [],
   "source": [
    "def NormData(fts, norm_type='l2_zscore'):\n",
    "    sqr_fts = np.sqrt(np.sum(fts**2, 1))\n",
    "    sqr_fts = np.matrix(sqr_fts).T\n",
    "    sqr_fts = np.matlib.repmat(sqr_fts, 1, fts.shape[1])\n",
    "    fts = fts / sqr_fts\n",
    "#     switch norm_type\n",
    "#         case 'l1_zscore'\n",
    "#             fts = fts ./ repmat(sum(abs(fts),2),1,size(fts,2));\n",
    "#             fts = zscore(fts,1);\n",
    "#         case 'l2_zscore'\n",
    "#             fts = fts ./ repmat(sqrt(sum(fts.^2,2)),1,size(fts,2));\n",
    "#             fts = zscore(fts,1);\n",
    "#         case 'l1'\n",
    "#             fts = fts ./ repmat(sum(abs(fts),2),1,size(fts,2));\n",
    "#         case 'l2'\n",
    "#             fts = fts ./ repmat(sqrt(sum(fts.^2,2)),1,size(fts,2));\n",
    "#         case 'none'\n",
    "#             return;\n",
    "#         otherwise\n",
    "#             error('norm');\n",
    "#     end\n",
    "    \n",
    "    return scipy.stats.zscore(fts)"
   ]
  },
  {
   "cell_type": "code",
   "execution_count": 46,
   "metadata": {},
   "outputs": [],
   "source": [
    "fts = a['fts']"
   ]
  },
  {
   "cell_type": "code",
   "execution_count": 47,
   "metadata": {},
   "outputs": [],
   "source": [
    "fts = NormData(fts)"
   ]
  },
  {
   "cell_type": "code",
   "execution_count": 48,
   "metadata": {},
   "outputs": [
    {
     "data": {
      "text/plain": [
       "(295, 800)"
      ]
     },
     "execution_count": 48,
     "metadata": {},
     "output_type": "execute_result"
    }
   ],
   "source": [
    "fts.shape"
   ]
  },
  {
   "cell_type": "code",
   "execution_count": 49,
   "metadata": {},
   "outputs": [
    {
     "data": {
      "text/plain": [
       "-0.36088880044631777"
      ]
     },
     "execution_count": 49,
     "metadata": {},
     "output_type": "execute_result"
    }
   ],
   "source": [
    "fts[55,44]"
   ]
  },
  {
   "cell_type": "code",
   "execution_count": null,
   "metadata": {},
   "outputs": [],
   "source": []
  }
 ],
 "metadata": {
  "kernelspec": {
   "display_name": "Python 2",
   "language": "python",
   "name": "python2"
  },
  "language_info": {
   "codemirror_mode": {
    "name": "ipython",
    "version": 2
   },
   "file_extension": ".py",
   "mimetype": "text/x-python",
   "name": "python",
   "nbconvert_exporter": "python",
   "pygments_lexer": "ipython2",
   "version": "2.7.12"
  }
 },
 "nbformat": 4,
 "nbformat_minor": 2
}
