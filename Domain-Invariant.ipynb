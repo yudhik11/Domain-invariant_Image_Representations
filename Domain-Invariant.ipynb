{
 "cells": [
  {
   "cell_type": "code",
   "execution_count": 1,
   "metadata": {},
   "outputs": [],
   "source": [
    "import numpy as np\n",
    "import scipy.io\n",
    "import scipy\n",
    "import numpy.matlib\n",
    "import scipy.stats\n",
    "from sklearn.decomposition import PCA"
   ]
  },
  {
   "cell_type": "code",
   "execution_count": 2,
   "metadata": {},
   "outputs": [
    {
     "name": "stdout",
     "output_type": "stream",
     "text": [
      "[[ 0.70710678  0.        ]\n",
      " [-0.70710678  0.        ]]\n"
     ]
    }
   ],
   "source": [
    "pca = PCA(n_components = 2) \n",
    "x = np.array([[2, 3, 3], [1, 2, 3]])\n",
    "y = pca.fit_transform(x)\n",
    "print y"
   ]
  },
  {
   "cell_type": "code",
   "execution_count": 3,
   "metadata": {},
   "outputs": [],
   "source": [
    "def add_dependencies():\n",
    "   pass "
   ]
  },
  {
   "cell_type": "code",
   "execution_count": 4,
   "metadata": {},
   "outputs": [],
   "source": [
    "add_dependencies()"
   ]
  },
  {
   "cell_type": "code",
   "execution_count": 5,
   "metadata": {},
   "outputs": [],
   "source": [
    "def Config(source=None, target=None):\n",
    "    amazon = 0\n",
    "    webcam = 1\n",
    "    dslr = 2\n",
    "    caltech = 3\n",
    "    \n",
    "    param = {}\n",
    "    param['domains'] = [amazon, webcam, dslr, caltech]\n",
    "    param['domain_names'] = ['amazon', 'webcam', 'dslr', 'caltech']\n",
    "    param['use_Gaussian_kernel'] = False\n",
    "    \n",
    "    param['categories'] = ['back_pack', 'bike', 'calculator',\n",
    "                           'headphones', 'keyboard', 'laptop_computer', 'monitor', 'mouse',\n",
    "                           'mug', 'projector']\n",
    "    \n",
    "    param['DATA_DIR'] = './MaxMarginDomainTransforms/ToRelease_GFK/data/'\n",
    "    param['held_out_categories'] = False\n",
    "    if source is None:\n",
    "        param['source'] = webcam\n",
    "    else:\n",
    "        param['source'] = source\n",
    "    \n",
    "    if target is None:\n",
    "        param['target'] = dslr\n",
    "    else:\n",
    "        param['target'] = target\n",
    "    \n",
    "    param['num_trials'] = 20\n",
    "    param['dim'] = 20\n",
    "    param['norm_type'] = 'l2_zscore'\n",
    "    param['C_s'] = 0.05\n",
    "    param['C_t'] = 1\n",
    "    param['mmdt_iter'] = 2\n",
    "    \n",
    "    if param['source'] == amazon:\n",
    "        param['num_train_source'] = 20\n",
    "    else:\n",
    "        param['num_train_source'] = 8\n",
    "    \n",
    "    param['num_train_target'] = 3\n",
    "    \n",
    "    param['result_filename'] = './MaxMarginDomainTransforms/DataSplitsOfficeCaltech/SameCategory_{0}-{1}_{2}RandomTrials_10Categories.mat'.format(param['domain_names'][param['source']],\n",
    "                                                                     param['domain_names'][param['target']],\n",
    "                                                                     param['num_trials'])\n",
    "    \n",
    "    return param"
   ]
  },
  {
   "cell_type": "code",
   "execution_count": 6,
   "metadata": {},
   "outputs": [],
   "source": [
    "def NormData(fts, norm_type='l2_zscore'):\n",
    "    sqr_fts = np.sqrt(np.sum(fts**2, 1))\n",
    "    sqr_fts = np.matrix(sqr_fts).T\n",
    "    sqr_fts = np.matlib.repmat(sqr_fts, 1, fts.shape[1])\n",
    "    fts = fts / sqr_fts\n",
    "#     switch norm_type\n",
    "#         case 'l1_zscore'\n",
    "#             fts = fts ./ repmat(sum(abs(fts),2),1,size(fts,2));\n",
    "#             fts = zscore(fts,1);\n",
    "#         case 'l2_zscore'\n",
    "#             fts = fts ./ repmat(sqrt(sum(fts.^2,2)),1,size(fts,2));\n",
    "#             fts = zscore(fts,1);\n",
    "#         case 'l1'\n",
    "#             fts = fts ./ repmat(sum(abs(fts),2),1,size(fts,2));\n",
    "#         case 'l2'\n",
    "#             fts = fts ./ repmat(sqrt(sum(fts.^2,2)),1,size(fts,2));\n",
    "#         case 'none'\n",
    "#             return;\n",
    "#         otherwise\n",
    "#             error('norm');\n",
    "#     end\n",
    "    \n",
    "    return scipy.stats.zscore(fts)"
   ]
  },
  {
   "cell_type": "code",
   "execution_count": 7,
   "metadata": {},
   "outputs": [],
   "source": [
    "def LoadOfficePlusCaltechData(foldername, norm_type):\n",
    "    domain_names = ['amazon_SURF_L10.mat', 'webcam_SURF_L10.mat', 'dslr_SURF_L10.mat', 'Caltech10_SURF_L10.mat']\n",
    "#     Data = np.zeros((len(domain_names),len(domain_names)))\n",
    "#     Labels = np.zeros((len(domain_names),len(domain_names)))\n",
    "    Data = []\n",
    "    Labels = []\n",
    "    for idx, name in enumerate(domain_names):\n",
    "        fullfilename = foldername + name\n",
    "        obj = scipy.io.loadmat(fullfilename)\n",
    "        \n",
    "        fts = obj['fts']\n",
    "        labels = obj['labels']\n",
    "        fts = NormData(fts, norm_type)\n",
    "        Data.append(fts)\n",
    "        Labels.append(labels)\n",
    "        \n",
    "    return Data, Labels"
   ]
  },
  {
   "cell_type": "code",
   "execution_count": 8,
   "metadata": {},
   "outputs": [],
   "source": [
    "param = Config()\n",
    "# param"
   ]
  },
  {
   "cell_type": "code",
   "execution_count": 9,
   "metadata": {},
   "outputs": [],
   "source": [
    "[Data, Labels] = LoadOfficePlusCaltechData( param['DATA_DIR'], param['norm_type'])"
   ]
  },
  {
   "cell_type": "code",
   "execution_count": 10,
   "metadata": {},
   "outputs": [],
   "source": [
    "source_domain = param['source']\n",
    "target_domain = param['target']\n",
    "\n",
    "splits = scipy.io.loadmat(param['result_filename'])\n",
    "train_ids = splits['train']\n",
    "test_ids = splits['test']\n",
    "# Data[source_domain]\n",
    "train_ids_source = train_ids[0][0][0][0]\n",
    "train_ids_target = train_ids[0][0][1][0]\n",
    "test_ids_source = test_ids[0][0][0][0]\n",
    "test_ids_target = test_ids[0][0][1][0]"
   ]
  },
  {
   "cell_type": "code",
   "execution_count": 11,
   "metadata": {},
   "outputs": [],
   "source": [
    "n = param['num_trials']\n",
    "telapsed = np.zeros((n,1))\n",
    "accuracy = np.zeros((n,1))\n",
    "pred_labels = np.zeros((n, 1))"
   ]
  },
  {
   "cell_type": "code",
   "execution_count": 12,
   "metadata": {},
   "outputs": [],
   "source": [
    "def UpdateLabels(labels, all_categories, categories):\n",
    "    for i in range(0, labels.size):\n",
    "        oldL = labels[i]\n",
    "        l = all_categories[oldL]\n",
    "#         newL = find(strcmp(l, categories));\n",
    "        newL = l.index(categories)\n",
    "        labels[i] = newL;\n",
    "    return labels    "
   ]
  },
  {
   "cell_type": "code",
   "execution_count": 34,
   "metadata": {},
   "outputs": [],
   "source": [
    "def UpdateLabelValues(labels, param):\n",
    "    if 'all_categories' not in param:\n",
    "        return labels\n",
    "    all_categories = param['all_categories']\n",
    "    categories = param['categories']\n",
    "    labels['train']['source'] = UpdateLabels(labels['train']['source'], all_categories, categories)\n",
    "    labels['train']['target'] = UpdateLabels(labels['train']['target'], all_categories, categories)\n",
    "    labels['test']['target'] = UpdateLabels(labels['test']['target'], all_categories, categories)\n",
    "    return labels"
   ]
  },
  {
   "cell_type": "code",
   "execution_count": 78,
   "metadata": {},
   "outputs": [],
   "source": [
    "def TrainMmdtOneIter(labels, data, param, idx):\n",
    "    data['transformed_target'] =  AugmentWithOnes(data['target'])*param['A']\n",
    "    data_svm = np.vstack((AugmentWithOnes(data['source']), data['transformed_target']))\n",
    "\n",
    "    labels_svm = np.hstack((labels['source'].T, labels['target'].T))\n",
    "    \n",
    "    weights_s = param['C_s']* np.ones((labels['source'].size, 1))\n",
    "    weights_t = param['C_t']* np.ones((labels['target'].size, 1))\n",
    "    param['weights'] = np.vstack((weights_s, weights_t))\n",
    "    \n",
    "    if idx == 0 and ('source_svm' in param):\n",
    "        model = param['source_svm'];\n",
    "    else:\n",
    "        model = train(param['weights'], labels_svm.T, sps.csr_matrix(data_svm, dtype = np.float).eliminate_zeros(), '-c 1 -q')\n",
    "    tstart = time.time()\n",
    "    L = learnAsymmTransformWithSVM(model['w'][param['train_classes'] - 1,:], \\\n",
    "    param['train_classes'], AugmentWithOnes(data['target']), labels['target'], param)\n",
    "    param['A'] = L.T\n",
    "    param['telapsed']['idx'] = time.time() - tstart;\n",
    "    return [model, data, param]"
   ]
  },
  {
   "cell_type": "code",
   "execution_count": 79,
   "metadata": {},
   "outputs": [],
   "source": [
    "def AsymmetricFrob_slack_kernel2(KA,KB,C,gamma=None,thresh=None):\n",
    "    #Frobenius-based transformation learning\n",
    "    if thresh is None:\n",
    "        thresh=10e-3;\n",
    "\n",
    "    if gamma is None:\n",
    "        gamma = 1e1;\n",
    "\n",
    "    maxit = 1e6;\n",
    "    \n",
    "    [nA,nA] = KA.shape\n",
    "    [nB,nB] = KB.shape\n",
    "    S = np.zeros((nA,nB))\n",
    "    [c,t] = C.shape\n",
    "    slack = np.zeros((c,1));\n",
    "    lambda1 = np.zeros((c,1));\n",
    "    lambda2 = np.zeros((c,1));\n",
    "    viol = -1*C[:,3]*C[:,2];\n",
    "    viol = viol.T;\n",
    "\n",
    "    for i in range(maxit):\n",
    "        [mx,curri] = np.max(viol);\n",
    "        if i%1000 == 0:\n",
    "            print 'Iteration {}, maxviol {}'.format(i, mx)\n",
    "        \n",
    "        if mx < thresh:\n",
    "            break;\n",
    "    \n",
    "        p1 = C[curri,0];\n",
    "        p2 = C[curri,1];\n",
    "        b = C[curri,2];\n",
    "        s = C[curri,3];\n",
    "        kx = KA[p1-1,:];\n",
    "        ky = KB[:,p2-1];\n",
    "\n",
    "        alpha = min(lambda1[curri],(np.matmul(s,(b-np.matmul(kx, np.matmul(S,ky))-slack[curri]))) / \\\n",
    "                    (1/gamma + np.matmul(KA[p1,p1],KB[p2,p2])) );\n",
    "        lambda1[curri] = lambda1[curri] - alpha;\n",
    "        S[p1,p2] = S[p1,p2] + s*alpha;\n",
    "        slack[curri] = slack[curri] - alpha/gamma;\n",
    "        alpha2 =  min(lambda2[curri],gamma*slack[curri]);\n",
    "        slack[curri] = slack[curri] - alpha2/gamma;\n",
    "        lambda2[curri] = lambda2[curri] - alpha2;\n",
    "\n",
    "#         update viols\n",
    "#         v = KA[C[:,1],p1];\n",
    "#         w = KB[p2,C[:,2].T;\n",
    "        viol = viol + np.matmul(s,  alpha *C[:,3].T * KA[C[:,0],p1].T * KB[p2,C[:,1]]);\n",
    "        viol[curri] = viol[curri] + [alpha+alpha2]/gamma;\n",
    "    return [S, slack, i]\n"
   ]
  },
  {
   "cell_type": "code",
   "execution_count": 80,
   "metadata": {},
   "outputs": [],
   "source": [
    "def learnAsymmTransformWithSVM(XA, yA, XB, yB, params):\n",
    "    dA = XA.shape[1];\n",
    "    dB = XB.shape[1]\n",
    "\n",
    "    C = GetConstraints(yA,yB);\n",
    "\n",
    "    if dA != dB:\n",
    "        K0aa = formKernel(XA, XA, params);\n",
    "        K0bb = formKernel(XB, XB, params);\n",
    "\n",
    "        C[:,1] = C[:,1] - len(yA);\n",
    "        S = AsymmetricFrob_slack_kernel2(K0aa,K0bb,C,params['gamma'],1e-3);\n",
    "        params['S'] = S;\n",
    "\n",
    "        L = np.eye(dA, dB) + np.matmul(XA.T * np.matmul(S, XB))\n",
    "    else:\n",
    "        X = np.vstack((XA, XB))\n",
    "        K0train = formKernel(X, X, params);\n",
    "        S = asymmetricFrob_slack_kernel(K0train,C,params.gamma,10e-3);\n",
    "\n",
    "        L = np.eye(dA) + np.matmul(X.T * np.matmul(S, X));\n",
    "    return L"
   ]
  },
  {
   "cell_type": "code",
   "execution_count": 81,
   "metadata": {},
   "outputs": [],
   "source": [
    "def AugmentWithOnes(data):\n",
    "    return np.hstack((data, np.ones(((data.shape[0], 1)))))\n",
    "\n",
    "def GetConstraints(y1, y2):\n",
    "    pos=1;\n",
    "    ly1=len(y1);\n",
    "    ly2=len(y2);\n",
    "    C=np.zeros((ly1*ly2,4));\n",
    "    for i in range(ly1):\n",
    "        for j in range(ly2):\n",
    "            if(y1[i]==y2[j]):\n",
    "                C[pos,:]=[i, j+ly1, 1, -1]; # w'Ax > 1; -w'Ax < -1;\n",
    "            else:\n",
    "                C[pos,:]=[i, j+ly1, -1, 1]; # w'Ax < -1\n",
    "            pos=pos+1\n",
    "    return C"
   ]
  },
  {
   "cell_type": "code",
   "execution_count": 82,
   "metadata": {},
   "outputs": [],
   "source": [
    "def TrainMmdt(labels, data, param):\n",
    "    if ('C_s' not in param or 'C_t' not in param):\n",
    "        param['C_s'] = 1\n",
    "        param['C_t'] = 1\n",
    "    \n",
    "    if 'gamma' not in param:\n",
    "        param['gamma'] = 1e-4\n",
    "    \n",
    "    dA = data['source'].shape[1]\n",
    "    dB = data['target'].shape[1]\n",
    "    \n",
    "    param['A'] = np.eye(dB + 1, dA + 1)\n",
    "    \n",
    "    if 'train_classes' not in param:\n",
    "        param['train_classes'] = np.sort(np.unique(labels['source']))\n",
    "    \n",
    "    for idx in range(param['mmdt_iter']):\n",
    "        [model, data, param] = TrainMmdtOneIter(labels, data, param, idx)\n",
    "    \n",
    "    model['w'] = model['w'] * param['A'].T\n",
    "    A = param['A']\n",
    "    return [model, A]"
   ]
  },
  {
   "cell_type": "code",
   "execution_count": 83,
   "metadata": {},
   "outputs": [
    {
     "name": "stdout",
     "output_type": "stream",
     "text": [
      "0\n",
      "(800, 20)\n",
      "(80, 1) (30, 1)\n"
     ]
    },
    {
     "ename": "NameError",
     "evalue": "global name 'train' is not defined",
     "output_type": "error",
     "traceback": [
      "\u001b[0;31m---------------------------------------------------------------------------\u001b[0m",
      "\u001b[0;31mNameError\u001b[0m                                 Traceback (most recent call last)",
      "\u001b[0;32m<ipython-input-83-30ec939fe6b1>\u001b[0m in \u001b[0;36m<module>\u001b[0;34m()\u001b[0m\n\u001b[1;32m     30\u001b[0m         \u001b[0mdata\u001b[0m\u001b[0;34m[\u001b[0m\u001b[0;34m'train'\u001b[0m\u001b[0;34m]\u001b[0m\u001b[0;34m[\u001b[0m\u001b[0;34m'target'\u001b[0m\u001b[0;34m]\u001b[0m \u001b[0;34m=\u001b[0m \u001b[0mnp\u001b[0m\u001b[0;34m.\u001b[0m\u001b[0mmatmul\u001b[0m\u001b[0;34m(\u001b[0m\u001b[0mdata\u001b[0m\u001b[0;34m[\u001b[0m\u001b[0;34m'train'\u001b[0m\u001b[0;34m]\u001b[0m\u001b[0;34m[\u001b[0m\u001b[0;34m'target'\u001b[0m\u001b[0;34m]\u001b[0m\u001b[0;34m,\u001b[0m \u001b[0mP\u001b[0m\u001b[0;34m)\u001b[0m\u001b[0;34m\u001b[0m\u001b[0m\n\u001b[1;32m     31\u001b[0m         \u001b[0mdata\u001b[0m\u001b[0;34m[\u001b[0m\u001b[0;34m'test'\u001b[0m\u001b[0;34m]\u001b[0m\u001b[0;34m[\u001b[0m\u001b[0;34m'target'\u001b[0m\u001b[0;34m]\u001b[0m \u001b[0;34m=\u001b[0m \u001b[0mnp\u001b[0m\u001b[0;34m.\u001b[0m\u001b[0mmatmul\u001b[0m\u001b[0;34m(\u001b[0m\u001b[0mdata\u001b[0m\u001b[0;34m[\u001b[0m\u001b[0;34m'test'\u001b[0m\u001b[0;34m]\u001b[0m\u001b[0;34m[\u001b[0m\u001b[0;34m'target'\u001b[0m\u001b[0;34m]\u001b[0m\u001b[0;34m,\u001b[0m \u001b[0mP\u001b[0m\u001b[0;34m)\u001b[0m\u001b[0;34m\u001b[0m\u001b[0m\n\u001b[0;32m---> 32\u001b[0;31m     \u001b[0;34m[\u001b[0m\u001b[0mmodel_mmdt\u001b[0m\u001b[0;34m,\u001b[0m \u001b[0mW\u001b[0m\u001b[0;34m]\u001b[0m \u001b[0;34m=\u001b[0m \u001b[0mTrainMmdt\u001b[0m\u001b[0;34m(\u001b[0m\u001b[0mlabels\u001b[0m\u001b[0;34m[\u001b[0m\u001b[0;34m'train'\u001b[0m\u001b[0;34m]\u001b[0m\u001b[0;34m,\u001b[0m \u001b[0mdata\u001b[0m\u001b[0;34m[\u001b[0m\u001b[0;34m'train'\u001b[0m\u001b[0;34m]\u001b[0m\u001b[0;34m,\u001b[0m \u001b[0mparam\u001b[0m\u001b[0;34m)\u001b[0m\u001b[0;34m\u001b[0m\u001b[0m\n\u001b[0m\u001b[1;32m     33\u001b[0m \u001b[0;31m#     telapsed(i) = toc(tstart);\u001b[0m\u001b[0;34m\u001b[0m\u001b[0;34m\u001b[0m\u001b[0m\n\u001b[1;32m     34\u001b[0m     \u001b[0;34m[\u001b[0m\u001b[0mpl\u001b[0m\u001b[0;34m,\u001b[0m \u001b[0macc\u001b[0m\u001b[0;34m,\u001b[0m \u001b[0mpe\u001b[0m\u001b[0;34m]\u001b[0m \u001b[0;34m=\u001b[0m \u001b[0mpredict\u001b[0m\u001b[0;34m(\u001b[0m\u001b[0mlabels\u001b[0m\u001b[0;34m[\u001b[0m\u001b[0;34m'test'\u001b[0m\u001b[0;34m]\u001b[0m\u001b[0;34m[\u001b[0m\u001b[0;34m'target'\u001b[0m\u001b[0;34m]\u001b[0m\u001b[0;34m.\u001b[0m\u001b[0mT\u001b[0m\u001b[0;34m,\u001b[0m         \u001b[0;34m[\u001b[0m\u001b[0msparse\u001b[0m\u001b[0;34m(\u001b[0m\u001b[0mdata\u001b[0m\u001b[0;34m[\u001b[0m\u001b[0;34m'test'\u001b[0m\u001b[0;34m]\u001b[0m\u001b[0;34m[\u001b[0m\u001b[0;34m'target'\u001b[0m\u001b[0;34m]\u001b[0m\u001b[0;34m)\u001b[0m\u001b[0;34m,\u001b[0m \u001b[0mnp\u001b[0m\u001b[0;34m.\u001b[0m\u001b[0mones\u001b[0m\u001b[0;34m(\u001b[0m\u001b[0;34m(\u001b[0m\u001b[0mnp\u001b[0m\u001b[0;34m.\u001b[0m\u001b[0msize\u001b[0m\u001b[0;34m(\u001b[0m\u001b[0mlabels\u001b[0m\u001b[0;34m[\u001b[0m\u001b[0;34m'test'\u001b[0m\u001b[0;34m]\u001b[0m\u001b[0;34m[\u001b[0m\u001b[0;34m'target'\u001b[0m\u001b[0;34m]\u001b[0m\u001b[0;34m)\u001b[0m\u001b[0;34m,\u001b[0m\u001b[0;36m1\u001b[0m\u001b[0;34m)\u001b[0m\u001b[0;34m)\u001b[0m\u001b[0;34m]\u001b[0m\u001b[0;34m,\u001b[0m         \u001b[0mmodel_mmdt\u001b[0m\u001b[0;34m)\u001b[0m\u001b[0;34m;\u001b[0m\u001b[0;34m\u001b[0m\u001b[0m\n",
      "\u001b[0;32m<ipython-input-82-32c010224555>\u001b[0m in \u001b[0;36mTrainMmdt\u001b[0;34m(labels, data, param)\u001b[0m\n\u001b[1;32m     16\u001b[0m \u001b[0;34m\u001b[0m\u001b[0m\n\u001b[1;32m     17\u001b[0m     \u001b[0;32mfor\u001b[0m \u001b[0midx\u001b[0m \u001b[0;32min\u001b[0m \u001b[0mrange\u001b[0m\u001b[0;34m(\u001b[0m\u001b[0mparam\u001b[0m\u001b[0;34m[\u001b[0m\u001b[0;34m'mmdt_iter'\u001b[0m\u001b[0;34m]\u001b[0m\u001b[0;34m)\u001b[0m\u001b[0;34m:\u001b[0m\u001b[0;34m\u001b[0m\u001b[0m\n\u001b[0;32m---> 18\u001b[0;31m         \u001b[0;34m[\u001b[0m\u001b[0mmodel\u001b[0m\u001b[0;34m,\u001b[0m \u001b[0mdata\u001b[0m\u001b[0;34m,\u001b[0m \u001b[0mparam\u001b[0m\u001b[0;34m]\u001b[0m \u001b[0;34m=\u001b[0m \u001b[0mTrainMmdtOneIter\u001b[0m\u001b[0;34m(\u001b[0m\u001b[0mlabels\u001b[0m\u001b[0;34m,\u001b[0m \u001b[0mdata\u001b[0m\u001b[0;34m,\u001b[0m \u001b[0mparam\u001b[0m\u001b[0;34m,\u001b[0m \u001b[0midx\u001b[0m\u001b[0;34m)\u001b[0m\u001b[0;34m\u001b[0m\u001b[0m\n\u001b[0m\u001b[1;32m     19\u001b[0m \u001b[0;34m\u001b[0m\u001b[0m\n\u001b[1;32m     20\u001b[0m     \u001b[0mmodel\u001b[0m\u001b[0;34m[\u001b[0m\u001b[0;34m'w'\u001b[0m\u001b[0;34m]\u001b[0m \u001b[0;34m=\u001b[0m \u001b[0mmodel\u001b[0m\u001b[0;34m[\u001b[0m\u001b[0;34m'w'\u001b[0m\u001b[0;34m]\u001b[0m \u001b[0;34m*\u001b[0m \u001b[0mparam\u001b[0m\u001b[0;34m[\u001b[0m\u001b[0;34m'A'\u001b[0m\u001b[0;34m]\u001b[0m\u001b[0;34m.\u001b[0m\u001b[0mT\u001b[0m\u001b[0;34m\u001b[0m\u001b[0m\n",
      "\u001b[0;32m<ipython-input-78-df2ffe3d0b01>\u001b[0m in \u001b[0;36mTrainMmdtOneIter\u001b[0;34m(labels, data, param, idx)\u001b[0m\n\u001b[1;32m     12\u001b[0m         \u001b[0mmodel\u001b[0m \u001b[0;34m=\u001b[0m \u001b[0mparam\u001b[0m\u001b[0;34m[\u001b[0m\u001b[0;34m'source_svm'\u001b[0m\u001b[0;34m]\u001b[0m\u001b[0;34m;\u001b[0m\u001b[0;34m\u001b[0m\u001b[0m\n\u001b[1;32m     13\u001b[0m     \u001b[0;32melse\u001b[0m\u001b[0;34m:\u001b[0m\u001b[0;34m\u001b[0m\u001b[0m\n\u001b[0;32m---> 14\u001b[0;31m         \u001b[0mmodel\u001b[0m \u001b[0;34m=\u001b[0m \u001b[0mtrain\u001b[0m\u001b[0;34m(\u001b[0m\u001b[0mparam\u001b[0m\u001b[0;34m[\u001b[0m\u001b[0;34m'weights'\u001b[0m\u001b[0;34m]\u001b[0m\u001b[0;34m,\u001b[0m \u001b[0mlabels_svm\u001b[0m\u001b[0;34m.\u001b[0m\u001b[0mT\u001b[0m\u001b[0;34m,\u001b[0m \u001b[0msps\u001b[0m\u001b[0;34m.\u001b[0m\u001b[0mcsr_matrix\u001b[0m\u001b[0;34m(\u001b[0m\u001b[0mdata_svm\u001b[0m\u001b[0;34m,\u001b[0m \u001b[0mdtype\u001b[0m \u001b[0;34m=\u001b[0m \u001b[0mnp\u001b[0m\u001b[0;34m.\u001b[0m\u001b[0mfloat\u001b[0m\u001b[0;34m)\u001b[0m\u001b[0;34m.\u001b[0m\u001b[0meliminate_zeros\u001b[0m\u001b[0;34m(\u001b[0m\u001b[0;34m)\u001b[0m\u001b[0;34m,\u001b[0m \u001b[0;34m'-c 1 -q'\u001b[0m\u001b[0;34m)\u001b[0m\u001b[0;34m\u001b[0m\u001b[0m\n\u001b[0m\u001b[1;32m     15\u001b[0m     \u001b[0mtstart\u001b[0m \u001b[0;34m=\u001b[0m \u001b[0mtime\u001b[0m\u001b[0;34m.\u001b[0m\u001b[0mtime\u001b[0m\u001b[0;34m(\u001b[0m\u001b[0;34m)\u001b[0m\u001b[0;34m\u001b[0m\u001b[0m\n\u001b[1;32m     16\u001b[0m     \u001b[0mL\u001b[0m \u001b[0;34m=\u001b[0m \u001b[0mlearnAsymmTransformWithSVM\u001b[0m\u001b[0;34m(\u001b[0m\u001b[0mmodel\u001b[0m\u001b[0;34m[\u001b[0m\u001b[0;34m'w'\u001b[0m\u001b[0;34m]\u001b[0m\u001b[0;34m[\u001b[0m\u001b[0mparam\u001b[0m\u001b[0;34m[\u001b[0m\u001b[0;34m'train_classes'\u001b[0m\u001b[0;34m]\u001b[0m \u001b[0;34m-\u001b[0m \u001b[0;36m1\u001b[0m\u001b[0;34m,\u001b[0m\u001b[0;34m:\u001b[0m\u001b[0;34m]\u001b[0m\u001b[0;34m,\u001b[0m     \u001b[0mparam\u001b[0m\u001b[0;34m[\u001b[0m\u001b[0;34m'train_classes'\u001b[0m\u001b[0;34m]\u001b[0m\u001b[0;34m,\u001b[0m \u001b[0mAugmentWithOnes\u001b[0m\u001b[0;34m(\u001b[0m\u001b[0mdata\u001b[0m\u001b[0;34m[\u001b[0m\u001b[0;34m'target'\u001b[0m\u001b[0;34m]\u001b[0m\u001b[0;34m)\u001b[0m\u001b[0;34m,\u001b[0m \u001b[0mlabels\u001b[0m\u001b[0;34m[\u001b[0m\u001b[0;34m'target'\u001b[0m\u001b[0;34m]\u001b[0m\u001b[0;34m,\u001b[0m \u001b[0mparam\u001b[0m\u001b[0;34m)\u001b[0m\u001b[0;34m\u001b[0m\u001b[0m\n",
      "\u001b[0;31mNameError\u001b[0m: global name 'train' is not defined"
     ]
    }
   ],
   "source": [
    "for i in range(0, n):\n",
    "    data = {}\n",
    "    data['train'] = {}\n",
    "    data['test'] = {}\n",
    "    print i\n",
    "    data['train']['source'] = Data[source_domain][train_ids_source[i]-1][0]\n",
    "    data['train']['target'] = Data[target_domain][train_ids_target[i]-1][0]\n",
    "    data['test']['target'] = Data[target_domain][test_ids_target[i]-1][0]\n",
    "    \n",
    "    labels = {}\n",
    "    labels['train'] = {}\n",
    "    labels['test'] = {}\n",
    "    \n",
    "    labels['train']['source'] = Labels[source_domain][train_ids_source[i]-1][0]\n",
    "    labels['train']['target'] = Labels[target_domain][train_ids_target[i]-1][0]\n",
    "    labels['test']['target'] = Labels[target_domain][test_ids_target[i]-1][0]\n",
    "#     print labels['train']\n",
    "    labels = UpdateLabelValues(labels, param);\n",
    "    \n",
    "    if param['dim'] < np.shape(data['train']['source'])[1]:\n",
    "        arr = np.array(data['train']['source'])\n",
    "        arr = np.vstack((arr, data['train']['target'])) \n",
    "        arr = np.vstack((arr, data['test']['target']))\n",
    "        \n",
    "        pca = PCA(n_components = param['dim'])\n",
    "        P = pca.fit_transform(arr.T)\n",
    "#         P = princomp(arr)\n",
    "        data['train']['source'] = np.matmul(data['train']['source'], P)\n",
    "        data['train']['target'] = np.matmul(data['train']['target'], P)\n",
    "        data['test']['target'] = np.matmul(data['test']['target'], P)\n",
    "    [model_mmdt, W] = TrainMmdt(labels['train'], data['train'], param)\n",
    "#     telapsed(i) = toc(tstart);\n",
    "    [pl, acc, pe] = predict(labels['test']['target'].T, \\\n",
    "        [sparse(data['test']['target']), np.ones((np.size(labels['test']['target']),1))], \\\n",
    "        model_mmdt);\n",
    "    accuracy[i] = acc[0];\n",
    "    pred_labels[i] = pl;\n",
    "    print 'Accuracy = {} (Time = {})\\n'.format(accuracy[i], telapsed[i]);\n",
    "print 'Mean Accuracy = {} +/- {}  (Mean time = {})'.format(mean(accuracy), std(accuracy)/sqrt(n), mean(telapsed))"
   ]
  },
  {
   "cell_type": "code",
   "execution_count": null,
   "metadata": {},
   "outputs": [],
   "source": []
  },
  {
   "cell_type": "code",
   "execution_count": null,
   "metadata": {},
   "outputs": [],
   "source": []
  }
 ],
 "metadata": {
  "kernelspec": {
   "display_name": "Python 2",
   "language": "python",
   "name": "python2"
  },
  "language_info": {
   "codemirror_mode": {
    "name": "ipython",
    "version": 2
   },
   "file_extension": ".py",
   "mimetype": "text/x-python",
   "name": "python",
   "nbconvert_exporter": "python",
   "pygments_lexer": "ipython2",
   "version": "2.7.12"
  }
 },
 "nbformat": 4,
 "nbformat_minor": 2
}
