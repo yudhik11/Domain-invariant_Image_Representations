{
 "cells": [
  {
   "cell_type": "code",
   "execution_count": 23,
   "metadata": {},
   "outputs": [],
   "source": [
    "import numpy as np\n",
    "import scipy.io\n",
    "import scipy.sparse as sps\n",
    "import time"
   ]
  },
  {
   "cell_type": "code",
   "execution_count": 18,
   "metadata": {},
   "outputs": [],
   "source": [
    "def TrainMmdt(labels, data, param):\n",
    "    if ('C_s' not in param or 'C_t' not in param):\n",
    "        param['C_s'] = 1\n",
    "        param['C_t'] = 1\n",
    "    \n",
    "    if 'gamma' not in param:\n",
    "        param['gamma'] = 1e-4\n",
    "    \n",
    "    dA = data['source'].shape[1]\n",
    "    dB = data['target'].shape[1]\n",
    "    \n",
    "    param['A'] = np.eye(dB + 1, dA + 1)\n",
    "    \n",
    "    if 'train_classes' not in param:\n",
    "        param['train_classes'] = np.sort(np.unique(labels['source']))\n",
    "    \n",
    "    for idx in range(param['mmdt_iter']):\n",
    "        [model, data, param] = TrainMmdtOneIter(labels, data, param, idx)\n",
    "    \n",
    "    model['w'] = model['w'] * param['A'].T\n",
    "    A = param['A']\n",
    "    return [model, A]"
   ]
  },
  {
   "cell_type": "code",
   "execution_count": 17,
   "metadata": {},
   "outputs": [
    {
     "data": {
      "text/plain": [
       "array([ 2,  5,  7, 73])"
      ]
     },
     "execution_count": 17,
     "metadata": {},
     "output_type": "execute_result"
    }
   ],
   "source": [
    "def TrainMmdtOneIter(labels, data, param, idx):\n",
    "    data['transformed_target'] =  AugmentWithOnes(data['target'])*param['A']\n",
    "    data_svm = np.vstack((AugmentWithOnes(data['source']), data['transformed_target']))\n",
    "    labels_svm = np.hstack((labels['source'], labels['target']))\n",
    "\n",
    "    weights_s = np.matmul((param['C_s'], np.ones((labels['source'], 1))))\n",
    "    weights_t = np.matmul(param['C_t'], np.ones(((labels['target']), 1)))\n",
    "    param.weights = np.vstack((weights_s, weights_t))\n",
    "    \n",
    "    if idx == 0 and ('source_svm' in param):\n",
    "        model = param['source_svm'];\n",
    "    else\n",
    "        model = train(param['weights'], labels_svm.T, sps.csr_matrix(data_svm, dtype = np.float).eliminate_zeros(), '-c 1 -q')\n",
    "    tstart = time.time()\n",
    "    L = learnAsymmTransformWithSVM(model['w'][param['train_classes'] - 1,:], \\\n",
    "    param['train_classes'], AugmentWithOnes(data['target']), labels['target'], param)\n",
    "    param['A'] = L.T\n",
    "    param['telapsed']['idx'] = time.time() - tstart;\n",
    "    return [model, data, param]"
   ]
  },
  {
   "cell_type": "code",
   "execution_count": 22,
   "metadata": {},
   "outputs": [],
   "source": [
    "def AugmentWithOnes(data):\n",
    "    return np.hstack((data, np.ones(((data.shape[0], 1)))))"
   ]
  },
  {
   "cell_type": "code",
   "execution_count": 26,
   "metadata": {},
   "outputs": [
    {
     "data": {
      "text/plain": [
       "1551291467.871978"
      ]
     },
     "execution_count": 26,
     "metadata": {},
     "output_type": "execute_result"
    }
   ],
   "source": [
    "def GetConstraints(y1, y2):\n",
    "    pos=1;\n",
    "    ly1=len(y1);\n",
    "    ly2=len(y2);\n",
    "    C=np.zeros((ly1*ly2,4));\n",
    "    for i in range(ly1):\n",
    "        for j in range(ly2):\n",
    "            if(y1[i]==y2[j])\n",
    "                C[pos,:]=[i, j+ly1, 1, -1]; # w'Ax > 1; -w'Ax < -1;\n",
    "            else\n",
    "                C[pos,:]=[i, j+ly1, -1, 1]; # w'Ax < -1\n",
    "            pos=pos+1\n",
    "    return C"
   ]
  },
  {
   "cell_type": "code",
   "execution_count": 29,
   "metadata": {},
   "outputs": [],
   "source": [
    "def learnAsymmTransformWithSVM(XA, yA, XB, yB, params):\n",
    "    dA = XA.shape[1];\n",
    "    dB = XB.shape[1]\n",
    "\n",
    "    C = GetConstraints(yA,yB);\n",
    "\n",
    "    if dA != dB:\n",
    "        K0aa = formKernel(XA, XA, params);\n",
    "        K0bb = formKernel(XB, XB, params);\n",
    "\n",
    "        C[:,1] = C[:,1] - len(yA);\n",
    "        S = AsymmetricFrob_slack_kernel2(K0aa,K0bb,C,params['gamma'],1e-3);\n",
    "        params['S'] = S;\n",
    "\n",
    "        L = np.eye(dA, dB) + np.matmul(XA.T * np.matmul(S, XB))\n",
    "    else:\n",
    "        X = np.vstack((XA, XB))\n",
    "        K0train = formKernel(X, X, params);\n",
    "        S = asymmetricFrob_slack_kernel(K0train,C,params.gamma,10e-3);\n",
    "\n",
    "        L = np.eye(dA) + np.matmul(X.T * np.matmul(S, X));\n",
    "    return L"
   ]
  },
  {
   "cell_type": "code",
   "execution_count": null,
   "metadata": {},
   "outputs": [],
   "source": [
    "def AsymmetricFrob_slack_kernel2(KA,KB,C,gamma=None,thresh=None)\n",
    "    #Frobenius-based transformation learning\n",
    "    if thresh is None:\n",
    "        thresh=10e-3;\n",
    "\n",
    "    if gamma is None:\n",
    "        gamma = 1e1;\n",
    "\n",
    "    maxit = 1e6;\n",
    "    \n",
    "    [nA,nA] = KA.shape\n",
    "    [nB,nB] = KB.shape\n",
    "    S = np.zeros((nA,nB))\n",
    "    [c,t] = C.shape\n",
    "    slack = np.zeros((c,1));\n",
    "    lambda1 = np.zeros((c,1));\n",
    "    lambda2 = np.zeros((c,1));\n",
    "    #v = (C(:,1)-1)*n+C(:,2);\n",
    "    #viol = C(:,4).*(K0(v)-C(:,3));\n",
    "    viol = -1*C(:,4)*C(:,3);\n",
    "    viol = viol.T;\n",
    "\n",
    "    for i in range(maxit):\n",
    "        [mx,curri] = np.max(viol);\n",
    "        if i%1000 == 0:\n",
    "            %fprintf(1,'Iteration %d, maxviol %d\\n', i, mx);\n",
    "        \n",
    "        if mx < thresh:\n",
    "            break;\n",
    "    \n",
    "        p1 = C[curri,1];\n",
    "        p2 = C[curri,2];\n",
    "        b = C[curri,3];\n",
    "        s = C[curri,4];\n",
    "        kx = KA[p1,:];\n",
    "        ky = KB[:,p2];\n",
    "\n",
    "        alpha = min(lambda1[curri],(np.matmul(s,(b-np.matmul(kx, np.matmul(S,ky))-slack[curri])) / (1/gamma + np.matmul(KA[p1,p1],KB[p2,p2]));\n",
    "        lambda1[curri] = lambda1[curri] - alpha;\n",
    "        S[p1,p2] = S[p1,p2] + s*alpha;\n",
    "        slack(curri) = slack[curri] - alpha/gamma;\n",
    "        alpha2 =  min(lambda2[curri],gamma*slack[curri]);\n",
    "        slack(curri) = slack[curri] - alpha2/gamma;\n",
    "        lambda2(curri) = lambda2[curri] - alpha2;\n",
    "\n",
    "        %update viols\n",
    "        %v = KA[C[:,1],p1];\n",
    "        %w = KB[p2,C[:,2].T;\n",
    "        viol = viol + np.matmul(s,  alpha *C[:,4].T * KA[C[:,1],p1].T * KB[p2,C[:,2]);\n",
    "        viol[curri] = viol[curri] + [alpha+alpha2]/gamma;\n",
    "    return [S, slack, i]\n"
   ]
  }
 ],
 "metadata": {
  "kernelspec": {
   "display_name": "Python 2",
   "language": "python",
   "name": "python2"
  },
  "language_info": {
   "codemirror_mode": {
    "name": "ipython",
    "version": 2
   },
   "file_extension": ".py",
   "mimetype": "text/x-python",
   "name": "python",
   "nbconvert_exporter": "python",
   "pygments_lexer": "ipython2",
   "version": "2.7.12"
  }
 },
 "nbformat": 4,
 "nbformat_minor": 2
}
